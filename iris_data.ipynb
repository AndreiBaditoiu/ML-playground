{
 "cells": [
  {
   "cell_type": "code",
   "id": "f47674a7-8d95-4d5e-aba6-4b29ec074f41",
   "metadata": {
    "ExecuteTime": {
     "end_time": "2024-09-25T22:09:07.021938Z",
     "start_time": "2024-09-25T22:09:07.013981Z"
    }
   },
   "source": [
    "from sklearn.datasets import load_iris\n",
    "iris = load_iris()"
   ],
   "outputs": [],
   "execution_count": 3
  },
  {
   "cell_type": "code",
   "id": "255842f0-bfa8-4d0f-a394-5dc2a4df0396",
   "metadata": {
    "ExecuteTime": {
     "end_time": "2024-09-25T22:09:07.036972Z",
     "start_time": "2024-09-25T22:09:07.024291Z"
    }
   },
   "source": [
    "X = iris.data\n",
    "y = iris.target\n",
    "\n",
    "feature_names = iris.feature_names\n",
    "target_names = iris.target_names\n",
    "target_names\n",
    "type(X)"
   ],
   "outputs": [
    {
     "data": {
      "text/plain": [
       "numpy.ndarray"
      ]
     },
     "execution_count": 4,
     "metadata": {},
     "output_type": "execute_result"
    }
   ],
   "execution_count": 4
  },
  {
   "cell_type": "code",
   "id": "79b0c803-1d78-4a5d-ae92-742a914dec21",
   "metadata": {
    "ExecuteTime": {
     "end_time": "2024-09-26T06:10:29.839037Z",
     "start_time": "2024-09-26T06:10:29.014312Z"
    }
   },
   "source": [
    "from sklearn.model_selection import train_test_split\n",
    "X_train, X_test, y_train, y_test = train_test_split(X, y, test_size=0.4)\n",
    "\n",
    "print(X_train.shape)\n",
    "print(X_train.shape)"
   ],
   "outputs": [
    {
     "name": "stdout",
     "output_type": "stream",
     "text": [
      "(90, 4)\n",
      "(90, 4)\n"
     ]
    }
   ],
   "execution_count": 5
  }
 ],
 "metadata": {
  "kernelspec": {
   "display_name": "Python 3 (ipykernel)",
   "language": "python",
   "name": "python3"
  },
  "language_info": {
   "codemirror_mode": {
    "name": "ipython",
    "version": 3
   },
   "file_extension": ".py",
   "mimetype": "text/x-python",
   "name": "python",
   "nbconvert_exporter": "python",
   "pygments_lexer": "ipython3",
   "version": "3.12.4"
  }
 },
 "nbformat": 4,
 "nbformat_minor": 5
}
