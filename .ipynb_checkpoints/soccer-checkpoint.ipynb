{
 "cells": [
  {
   "metadata": {},
   "cell_type": "raw",
   "source": "",
   "id": "fa90cbcde36e7378"
  }
 ],
 "metadata": {},
 "nbformat": 4,
 "nbformat_minor": 5
}
